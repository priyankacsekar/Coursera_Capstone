{
 "cells": [
  {
   "cell_type": "markdown",
   "metadata": {},
   "source": [
    "# Analyzing neighborhoods in Toronto\n",
    "\n",
    "This notebook obtains Toronto's postal codes from Wikipedia page https://en.wikipedia.org/wiki/List_of_postal_codes_of_Canada:_M, and finds the corresponding latitudes and longitudes\n",
    "\n",
    "The final dataframe will consist of six columns including index: PostalCode, Borough, Neighborhood, Latitude and Longitude. This is obtained in 5 steps:\n",
    "1. Read the Wiki page and parse the HTML using BeautifulSoup\n",
    "2. Parse through the postcode table and create a dataframe with contents\n",
    "3. Cleanse the dataframe and retain useful rows\n",
    "4. Read a csv file containing geographical coordinates\n",
    "5. Retrieve latitude and longitude from the csv dataframe based on Postcode\n",
    "\n",
    "The dimensions of the final dataframe are dispayed at the end of the notebook"
   ]
  },
  {
   "cell_type": "markdown",
   "metadata": {},
   "source": [
    "## 1. Read the Wiki page and parse the HTML using BeautifulSoup"
   ]
  },
  {
   "cell_type": "code",
   "execution_count": 49,
   "metadata": {},
   "outputs": [],
   "source": [
    "from bs4 import BeautifulSoup\n",
    "import pandas as pd\n",
    "import requests\n",
    "\n",
    "response = requests.get('https://en.wikipedia.org/wiki/List_of_postal_codes_of_Canada:_M')\n",
    "soup = BeautifulSoup(response.text, \"html.parser\")\n",
    "    \n",
    "# Find the postcode table section, which is the first table on the Wiki page\n",
    "table = soup.table"
   ]
  },
  {
   "cell_type": "markdown",
   "metadata": {},
   "source": [
    "## 2. Parse through the postcode table and create a dataframe with contents"
   ]
  },
  {
   "cell_type": "code",
   "execution_count": 50,
   "metadata": {},
   "outputs": [],
   "source": [
    "# Read column titles and find number of rows\n",
    "column_names = []\n",
    "n_rows = 0\n",
    "for row in table.find_all('tr'):\n",
    "    # Find heading row <th> tags\n",
    "    th_tags = row.find_all('th') \n",
    "    if len(th_tags) > 0 and len(column_names) == 0:\n",
    "        for th in th_tags:\n",
    "            column_names.append(th.get_text())\n",
    "    # Count rows with data\n",
    "    td_tags = row.find_all('td')\n",
    "    if len(td_tags) > 0:\n",
    "        n_rows+=1\n",
    "\n",
    "# Create a dataframe and read data into it\n",
    "df = pd.DataFrame(columns = column_names,index = range(0,n_rows))\n",
    "row_marker = 0\n",
    "for row in table.find_all('tr'):\n",
    "    column_marker = 0\n",
    "    columns = row.find_all('td')\n",
    "    for column in columns:\n",
    "        df.iat[row_marker,column_marker] = column.get_text()\n",
    "        column_marker += 1\n",
    "    if len(columns) > 0:\n",
    "        row_marker += 1                  \n",
    "\n",
    "# Remove newline \\n characters\n",
    "df = df.replace('\\n','', regex=True)\n"
   ]
  },
  {
   "cell_type": "markdown",
   "metadata": {},
   "source": [
    "## 3. Cleanse the dataframe and retain useful rows"
   ]
  },
  {
   "cell_type": "code",
   "execution_count": 51,
   "metadata": {},
   "outputs": [],
   "source": [
    "# Remove rows with a borough that is Not assigned\n",
    "df = df[df.Borough!='Not assigned']\n",
    "\n",
    "# Make Neighbourhood values same as Borough when Not assigned\n",
    "df['Neighbourhood\\n'].replace('Not assigned',df['Borough'],inplace=True)\n",
    "\n",
    "# Combining rows with the same postcode, with the neighborhoods separated with a comma\n",
    "df['Neighbourhood\\n'] = df.groupby(['Postcode','Borough'])['Neighbourhood\\n'].transform(lambda x: ', '.join(x))\n",
    "df = df.drop_duplicates()\n",
    "\n",
    "df = df.reset_index()\n"
   ]
  },
  {
   "cell_type": "markdown",
   "metadata": {},
   "source": [
    "## Dimensions of the final dataframe"
   ]
  },
  {
   "cell_type": "code",
   "execution_count": 52,
   "metadata": {},
   "outputs": [
    {
     "name": "stdout",
     "output_type": "stream",
     "text": [
      "(Rows, Columns) -  (103, 4)\n"
     ]
    }
   ],
   "source": [
    "print(\"(Rows, Columns) - \",df.shape)"
   ]
  },
  {
   "cell_type": "markdown",
   "metadata": {},
   "source": [
    "## 4. Find latitude and longitude for each postal code\n",
    "\n",
    "Note: Attempt was made to use the geocoder library, however this was too slow. Therefore, the csv file with geographical coordinates was used to obtain latitude and longitude"
   ]
  },
  {
   "cell_type": "code",
   "execution_count": 53,
   "metadata": {},
   "outputs": [],
   "source": [
    "# Install geocoder library\n",
    "\n",
    "# !pip install geocoder"
   ]
  },
  {
   "cell_type": "code",
   "execution_count": 54,
   "metadata": {},
   "outputs": [],
   "source": [
    "# Using geocoder to retrieve coordinates\n",
    "\n",
    "#import geocoder \n",
    "## initialize your variable to None\n",
    "\n",
    "#for row in df.itertuples(index=True, name='Pandas'):\n",
    "\n",
    "#    # loop until you get the coordinates\n",
    "#    lat_lng_coords = None\n",
    "#    while(lat_lng_coords is None):\n",
    "#        g = geocoder.google('{}, Toronto, Ontario'.format(getattr(row, \"Postcode\")))\n",
    "#        lat_lng_coords = g.latlng\n",
    "#\n",
    "#    row['Latitude'] = lat_lng_coords[0]\n",
    "#    row['Longitude'] = lat_lng_coords[1]\n",
    "#    \n",
    "#df.head(20)"
   ]
  },
  {
   "cell_type": "code",
   "execution_count": 55,
   "metadata": {},
   "outputs": [
    {
     "data": {
      "text/html": [
       "<div>\n",
       "<style scoped>\n",
       "    .dataframe tbody tr th:only-of-type {\n",
       "        vertical-align: middle;\n",
       "    }\n",
       "\n",
       "    .dataframe tbody tr th {\n",
       "        vertical-align: top;\n",
       "    }\n",
       "\n",
       "    .dataframe thead th {\n",
       "        text-align: right;\n",
       "    }\n",
       "</style>\n",
       "<table border=\"1\" class=\"dataframe\">\n",
       "  <thead>\n",
       "    <tr style=\"text-align: right;\">\n",
       "      <th></th>\n",
       "      <th>Postcode</th>\n",
       "      <th>Latitude</th>\n",
       "      <th>Longitude</th>\n",
       "    </tr>\n",
       "  </thead>\n",
       "  <tbody>\n",
       "    <tr>\n",
       "      <th>0</th>\n",
       "      <td>M1B</td>\n",
       "      <td>43.806686</td>\n",
       "      <td>-79.194353</td>\n",
       "    </tr>\n",
       "    <tr>\n",
       "      <th>1</th>\n",
       "      <td>M1C</td>\n",
       "      <td>43.784535</td>\n",
       "      <td>-79.160497</td>\n",
       "    </tr>\n",
       "    <tr>\n",
       "      <th>2</th>\n",
       "      <td>M1E</td>\n",
       "      <td>43.763573</td>\n",
       "      <td>-79.188711</td>\n",
       "    </tr>\n",
       "    <tr>\n",
       "      <th>3</th>\n",
       "      <td>M1G</td>\n",
       "      <td>43.770992</td>\n",
       "      <td>-79.216917</td>\n",
       "    </tr>\n",
       "    <tr>\n",
       "      <th>4</th>\n",
       "      <td>M1H</td>\n",
       "      <td>43.773136</td>\n",
       "      <td>-79.239476</td>\n",
       "    </tr>\n",
       "  </tbody>\n",
       "</table>\n",
       "</div>"
      ],
      "text/plain": [
       "  Postcode   Latitude  Longitude\n",
       "0      M1B  43.806686 -79.194353\n",
       "1      M1C  43.784535 -79.160497\n",
       "2      M1E  43.763573 -79.188711\n",
       "3      M1G  43.770992 -79.216917\n",
       "4      M1H  43.773136 -79.239476"
      ]
     },
     "execution_count": 55,
     "metadata": {},
     "output_type": "execute_result"
    }
   ],
   "source": [
    "# Reading csv file containing geographical coordinates into a dataframe\n",
    "\n",
    "import types\n",
    "import pandas as pd\n",
    "from botocore.client import Config\n",
    "import ibm_boto3\n",
    "\n",
    "def __iter__(self): return 0\n",
    "\n",
    "# @hidden_cell\n",
    "# The following code accesses a file in your IBM Cloud Object Storage. It includes your credentials.\n",
    "# You might want to remove those credentials before you share your notebook.\n",
    "client_e8764c861c054a20afb6b04c6ac44ea0 = ibm_boto3.client(service_name='s3',\n",
    "    ibm_api_key_id='jW2kFAJXBCCzrfe6UgP3T4Lt-KyG0vY-sJqXsSHMGE8Y',\n",
    "    ibm_auth_endpoint=\"https://iam.bluemix.net/oidc/token\",\n",
    "    config=Config(signature_version='oauth'),\n",
    "    endpoint_url='https://s3-api.us-geo.objectstorage.service.networklayer.com')\n",
    "\n",
    "body = client_e8764c861c054a20afb6b04c6ac44ea0.get_object(Bucket='courseracapstone-donotdelete-pr-keavguhvhxmj3o',Key='Geospatial_Coordinates.csv')['Body']\n",
    "# add missing __iter__ method, so pandas accepts body as file-like object\n",
    "if not hasattr(body, \"__iter__\"): body.__iter__ = types.MethodType( __iter__, body )\n",
    "\n",
    "df_data_1 = pd.read_csv(body)\n",
    "df_data_1.rename(columns={'Postal Code': 'Postcode'}, inplace=True)\n",
    "df_data_1.head()\n",
    "\n"
   ]
  },
  {
   "cell_type": "markdown",
   "metadata": {},
   "source": [
    "## 5. Retrieve latitude and longitude from the csv dataframe based on Postcode"
   ]
  },
  {
   "cell_type": "code",
   "execution_count": 56,
   "metadata": {},
   "outputs": [
    {
     "data": {
      "text/html": [
       "<div>\n",
       "<style scoped>\n",
       "    .dataframe tbody tr th:only-of-type {\n",
       "        vertical-align: middle;\n",
       "    }\n",
       "\n",
       "    .dataframe tbody tr th {\n",
       "        vertical-align: top;\n",
       "    }\n",
       "\n",
       "    .dataframe thead th {\n",
       "        text-align: right;\n",
       "    }\n",
       "</style>\n",
       "<table border=\"1\" class=\"dataframe\">\n",
       "  <thead>\n",
       "    <tr style=\"text-align: right;\">\n",
       "      <th></th>\n",
       "      <th>index</th>\n",
       "      <th>Postcode</th>\n",
       "      <th>Borough</th>\n",
       "      <th>Neighbourhood</th>\n",
       "      <th>Latitude</th>\n",
       "      <th>Longitude</th>\n",
       "    </tr>\n",
       "  </thead>\n",
       "  <tbody>\n",
       "    <tr>\n",
       "      <th>0</th>\n",
       "      <td>2</td>\n",
       "      <td>M3A</td>\n",
       "      <td>North York</td>\n",
       "      <td>Parkwoods</td>\n",
       "      <td>43.753259</td>\n",
       "      <td>-79.329656</td>\n",
       "    </tr>\n",
       "    <tr>\n",
       "      <th>1</th>\n",
       "      <td>3</td>\n",
       "      <td>M4A</td>\n",
       "      <td>North York</td>\n",
       "      <td>Victoria Village</td>\n",
       "      <td>43.725882</td>\n",
       "      <td>-79.315572</td>\n",
       "    </tr>\n",
       "    <tr>\n",
       "      <th>2</th>\n",
       "      <td>4</td>\n",
       "      <td>M5A</td>\n",
       "      <td>Downtown Toronto</td>\n",
       "      <td>Harbourfront, Regent Park</td>\n",
       "      <td>43.654260</td>\n",
       "      <td>-79.360636</td>\n",
       "    </tr>\n",
       "    <tr>\n",
       "      <th>3</th>\n",
       "      <td>6</td>\n",
       "      <td>M6A</td>\n",
       "      <td>North York</td>\n",
       "      <td>Lawrence Heights, Lawrence Manor</td>\n",
       "      <td>43.718518</td>\n",
       "      <td>-79.464763</td>\n",
       "    </tr>\n",
       "    <tr>\n",
       "      <th>4</th>\n",
       "      <td>8</td>\n",
       "      <td>M7A</td>\n",
       "      <td>Queen's Park</td>\n",
       "      <td>Queen's Park</td>\n",
       "      <td>43.662301</td>\n",
       "      <td>-79.389494</td>\n",
       "    </tr>\n",
       "  </tbody>\n",
       "</table>\n",
       "</div>"
      ],
      "text/plain": [
       "   index Postcode           Borough                   Neighbourhood\\n  \\\n",
       "0      2      M3A        North York                         Parkwoods   \n",
       "1      3      M4A        North York                  Victoria Village   \n",
       "2      4      M5A  Downtown Toronto         Harbourfront, Regent Park   \n",
       "3      6      M6A        North York  Lawrence Heights, Lawrence Manor   \n",
       "4      8      M7A      Queen's Park                      Queen's Park   \n",
       "\n",
       "    Latitude  Longitude  \n",
       "0  43.753259 -79.329656  \n",
       "1  43.725882 -79.315572  \n",
       "2  43.654260 -79.360636  \n",
       "3  43.718518 -79.464763  \n",
       "4  43.662301 -79.389494  "
      ]
     },
     "execution_count": 56,
     "metadata": {},
     "output_type": "execute_result"
    }
   ],
   "source": [
    "# Merging the two datasets on Postcode\n",
    "\n",
    "df_latlon = pd.merge(df,df_data_1,on='Postcode')\n",
    "df_latlon.head()"
   ]
  },
  {
   "cell_type": "code",
   "execution_count": null,
   "metadata": {},
   "outputs": [],
   "source": []
  }
 ],
 "metadata": {
  "kernelspec": {
   "display_name": "Python 3.5",
   "language": "python",
   "name": "python3"
  },
  "language_info": {
   "codemirror_mode": {
    "name": "ipython",
    "version": 3
   },
   "file_extension": ".py",
   "mimetype": "text/x-python",
   "name": "python",
   "nbconvert_exporter": "python",
   "pygments_lexer": "ipython3",
   "version": "3.5.5"
  }
 },
 "nbformat": 4,
 "nbformat_minor": 1
}
