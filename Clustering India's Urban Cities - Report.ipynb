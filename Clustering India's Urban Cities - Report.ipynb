{
 "cells": [
  {
   "cell_type": "markdown",
   "metadata": {
    "collapsed": true
   },
   "source": [
    "# Clustering India's Urban Cities"
   ]
  },
  {
   "cell_type": "markdown",
   "metadata": {},
   "source": [
    "This report supports the Applied Data Science Capstone project. It lays out the problem being solved, the dataset used, the model and algorithm adopted and the results."
   ]
  },
  {
   "cell_type": "markdown",
   "metadata": {},
   "source": [
    "## 1. Introduction"
   ]
  },
  {
   "cell_type": "markdown",
   "metadata": {},
   "source": [
    "### 1.1 Context"
   ]
  },
  {
   "cell_type": "markdown",
   "metadata": {},
   "source": [
    "The Ministry for Urban Development in India recently launched a Smart City Mission as an initiative to develop cities across the country. The objectives are to make cities more urban, citizen-friendly and sustainable. The country views this as the best route in embracing the opportunity of an increasing urban population.\n",
    "\n",
    "Around 100 cities across India were chosen in 2015 to partake in this mission. This initial selection was based on a 'City Challenge' where contending cities were evaluated against parameters like economic status, livability and adoption of information/communication technology among others."
   ]
  },
  {
   "cell_type": "markdown",
   "metadata": {},
   "source": [
    "### 1.2 Problem Statement"
   ]
  },
  {
   "cell_type": "markdown",
   "metadata": {},
   "source": [
    "In keeping with the ultimate objective of the Smart Cisty Mission, it is important to identify other cities in the country that can benefit from urban development and retrofitting. While several parameters will likely determine their eligibility, cities' urban activity can be used to understand their character and likeness to participating cities.\n",
    "\n",
    "This project aims to explore, segment and cluster India's urban cities into groups based on similarities or differences in urban activity reported. "
   ]
  },
  {
   "cell_type": "markdown",
   "metadata": {},
   "source": [
    "### 1.3 Audience"
   ]
  },
  {
   "cell_type": "markdown",
   "metadata": {},
   "source": [
    "The intended audience for this project is the Ministry for Urband Development in India. The outcome should enable them to \n",
    "1) identify other cities not currently participating that may benefit from the Smart City Mission, and\n",
    "2) the nature of urban development that they may require, and specific projects to implement based on other cities in the group"
   ]
  },
  {
   "cell_type": "markdown",
   "metadata": {},
   "source": [
    "## 2. Data"
   ]
  },
  {
   "cell_type": "markdown",
   "metadata": {},
   "source": [
    "This project uses two data sources.\n",
    "\n",
    "1. The World Cities Database provided by simplemaps. This is a CSV file containing a list of prominent cities and towns from every country in the world.\n",
    "\n",
    "2. The Foursquare API to get the most common venue categories visitied in each city."
   ]
  },
  {
   "cell_type": "markdown",
   "metadata": {},
   "source": [
    "### 2.1 World Cities Database\n",
    "\n",
    "The World Cities Database (https://simplemaps.com/data/world-cities) has a list of prominent cities from all countries in the world, along with their geo coordinates. A sample from the World Cities Database CSV file is shown below. \n",
    "\n",
    "| city | city_ascii | lat | lng | country | iso2 | iso3 | admin_name | capital | population | id |\n",
    "| --- | --- | --- | --- | --- | --- | --- | --- | --- | --- | --- |\n",
    "| Kabul | Kabul | 34.5167 | 69.1833 | Afghanistan | AF | AFG | Kābul | primary | 3277000 | 1004993580 |\n",
    "| Sharan | Sharan | 33.1757 | 68.7304 | Afghanistan | AF | AFG | Paktīkā | admin | --- | 1004273142 |\n",
    "\n",
    "The fields of interest for this study are listed below along with an explanation. The initial data exploration phase will filter for cities in India (country = 'India')\n",
    "\n",
    "| Field | Description |\n",
    "| --- | --- |\n",
    "| city | The name of the city/town as a Unicode string |\n",
    "| lat | The latitude of the city/town |\n",
    "| lng | The longitude of the city/town |\n",
    "| country | The name of the city/town's country |\n",
    "| capital | Blank string if not a capital, otherwise: <br> primary - country's capital (e.g. Washington D.C.) <br> admin - first-level admin capital (e.g. Little Rock, AR) <br> minor - lower-level admin capital (e.g. Fayetteville, AR)\n",
    "\n"
   ]
  },
  {
   "cell_type": "markdown",
   "metadata": {},
   "source": [
    "### 2.2 Foursquare API"
   ]
  },
  {
   "cell_type": "markdown",
   "metadata": {},
   "source": [
    "Foursquare is a social networking mobile app that enables users to 'check-in' and share their location when they visit venues. While users of the app can obtain local recommendations and tips, Foursquare's wealth of location data is available to developers and businesses via an API. For a given geolocation, the API can return venues in the area and details for each venue like their popularity, hours of operation, ratings and type of business. \n",
    "\n",
    "This project will use the 'Search for Venues' and 'Get Details of Venue' features of the Foursquare API to find out the nature of locations being visited in each city. The most popular venue types will then be used as the bases to determine similar cities."
   ]
  },
  {
   "cell_type": "code",
   "execution_count": null,
   "metadata": {},
   "outputs": [],
   "source": []
  }
 ],
 "metadata": {
  "kernelspec": {
   "display_name": "Python 3.5",
   "language": "python",
   "name": "python3"
  },
  "language_info": {
   "codemirror_mode": {
    "name": "ipython",
    "version": 3
   },
   "file_extension": ".py",
   "mimetype": "text/x-python",
   "name": "python",
   "nbconvert_exporter": "python",
   "pygments_lexer": "ipython3",
   "version": "3.5.5"
  }
 },
 "nbformat": 4,
 "nbformat_minor": 1
}
